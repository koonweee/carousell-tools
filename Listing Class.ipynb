{
 "cells": [
  {
   "cell_type": "code",
   "execution_count": 169,
   "metadata": {},
   "outputs": [],
   "source": [
    "import requests\n",
    "from datetime import datetime\n",
    "import pytz"
   ]
  },
  {
   "cell_type": "markdown",
   "metadata": {},
   "source": [
    "Imports: \n",
    "* requests: http POST to perform search\n",
    "* datetime: parse epoch time from listings, compare to current time\n",
    "* pytz: specify timezone for datetime operations"
   ]
  },
  {
   "cell_type": "code",
   "execution_count": 170,
   "metadata": {},
   "outputs": [],
   "source": [
    "class listing:\n",
    "    ID = None\n",
    "    title = None\n",
    "    desc = None\n",
    "    time = None\n",
    "    price = None\n",
    "    condition = None\n",
    "    location = None\n",
    "    images = None\n",
    "    url = None\n",
    "    seller = None\n",
    "    likes = None\n",
    "    diffTime = None\n",
    "\n",
    "    def __init__(self, parsedDict):\n",
    "        self.ID = parsedDict['id']\n",
    "        self.seller = parsedDict['seller']['username']\n",
    "        self.images = parsedDict['photos']\n",
    "        epochTime = parsedDict['photoUrls'][0].split('_')[-3]\n",
    "        sgTZ = pytz.timezone('Asia/Singapore')\n",
    "        currentTime = datetime.now().astimezone(sgTZ)\n",
    "        self.time = datetime.fromtimestamp(int(epochTime), tz=sgTZ)\n",
    "        self.diffTime = currentTime - self.time\n",
    "        self.title = parsedDict['title']\n",
    "        self.price = parsedDict['price']\n",
    "        self.desc = parsedDict['belowFold'][2]['stringContent']\n",
    "        self.condition = parsedDict['belowFold'][3]['stringContent']\n",
    "        # self.likes = parsedDict['likesCount'] invalid if no likes yet\n"
   ]
  },
  {
   "cell_type": "code",
   "execution_count": 171,
   "metadata": {},
   "outputs": [],
   "source": [
    "searchURL = 'https://www.carousell.sg/api-service/filter/cf/4.0/search/'\n",
    "searchContent = {\n",
    "    'bestMatchEnabled':False,\n",
    "    'canChangeKeyword':False,\n",
    "    'count':40,\n",
    "    'countryCode':'SG',\n",
    "    'countryId':'1880251',\n",
    "    'filters':[],\n",
    "    'includeSuggestions':False,\n",
    "    'locale':'en',\n",
    "    'prefill':[],\n",
    "    'query':'3090',\n",
    "    'sortParam':{'fieldName':'time_created', 'ascending':{'value':False}}\n",
    "}"
   ]
  },
  {
   "cell_type": "code",
   "execution_count": 172,
   "metadata": {},
   "outputs": [],
   "source": [
    "searchResp = requests.post(url=searchURL, json=searchContent)\n",
    "searchRespData = searchResp.json()\n",
    "numResults = searchRespData['data']['formattedTotal']\n",
    "currentPageResults = searchRespData['data']['results']"
   ]
  },
  {
   "cell_type": "code",
   "execution_count": 173,
   "metadata": {},
   "outputs": [
    {
     "name": "stdout",
     "output_type": "stream",
     "text": [
      "2021-06-02 19:49:16+08:00\n",
      "18:25:24.674529\n"
     ]
    }
   ],
   "source": [
    "ls0 = listing(currentPageResults[0]['listingCard'])\n",
    "print(ls0.time)\n",
    "print(ls0.diffTime)"
   ]
  }
 ],
 "metadata": {
  "kernelspec": {
   "display_name": "Python 3.9.1 64-bit ('miniconda3': virtualenv)",
   "name": "python391jvsc74a57bd022f70f503a14852dda6f3675b02ae61e38835edc56b87f63457d6e30f459ac44"
  },
  "language_info": {
   "name": "python",
   "version": ""
  },
  "metadata": {
   "interpreter": {
    "hash": "22f70f503a14852dda6f3675b02ae61e38835edc56b87f63457d6e30f459ac44"
   }
  },
  "orig_nbformat": 2
 },
 "nbformat": 4,
 "nbformat_minor": 2
}