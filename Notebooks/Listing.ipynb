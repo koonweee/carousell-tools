{
 "cells": [
  {
   "cell_type": "code",
   "execution_count": 90,
   "metadata": {},
   "outputs": [],
   "source": [
    "from datetime import datetime\n",
    "import pytz"
   ]
  },
  {
   "cell_type": "markdown",
   "metadata": {},
   "source": [
    "Imports: \n",
    "* datetime: parse epoch time from listings, compare to current time\n",
    "* pytz: specify timezone for datetime operations"
   ]
  },
  {
   "cell_type": "code",
   "execution_count": 91,
   "metadata": {},
   "outputs": [],
   "source": [
    "class listing:\n",
    "    ID = None\n",
    "    title = None\n",
    "    desc = None\n",
    "    time = None\n",
    "    price = None\n",
    "    condition = None\n",
    "    location = None # requires visiting listing URL\n",
    "    image = None\n",
    "    url = None\n",
    "    seller = None\n",
    "    likes = None\n",
    "    diffTime = None\n",
    "    listtype = None # bump, new user etc\n",
    "\n",
    "    def __init__(self, parsedDict):\n",
    "        self.ID = parsedDict['id']\n",
    "        self.seller = parsedDict['seller']['username']\n",
    "        self.image = parsedDict['photoUrls'][0].replace('_thumbnail','')\n",
    "        epochTime = self.image.split('_')[-2]\n",
    "        sgTZ = pytz.timezone('Asia/Singapore')\n",
    "        currentTime = datetime.now().astimezone(sgTZ)\n",
    "        self.time = datetime.fromtimestamp(int(epochTime), tz=sgTZ)\n",
    "        self.diffTime = currentTime - self.time\n",
    "        self.title = parsedDict['title']\n",
    "        self.price = parsedDict['price']\n",
    "        self.desc = parsedDict['belowFold'][2]['stringContent']\n",
    "        self.condition = parsedDict['belowFold'][3]['stringContent']\n",
    "        self.listtype = parsedDict['aboveFold'][0]['component']\n",
    "        # self.likes = parsedDict['likesCount'] invalid if no likes yet\n"
   ]
  }
 ],
 "metadata": {
  "kernelspec": {
   "display_name": "Python 3.9.1 64-bit ('miniconda3': virtualenv)",
   "name": "python391jvsc74a57bd022f70f503a14852dda6f3675b02ae61e38835edc56b87f63457d6e30f459ac44"
  },
  "language_info": {
   "name": "python",
   "version": ""
  },
  "metadata": {
   "interpreter": {
    "hash": "22f70f503a14852dda6f3675b02ae61e38835edc56b87f63457d6e30f459ac44"
   }
  },
  "orig_nbformat": 3
 },
 "nbformat": 4,
 "nbformat_minor": 2
}